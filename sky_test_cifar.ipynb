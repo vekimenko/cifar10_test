{
 "cells": [
  {
   "cell_type": "markdown",
   "id": "24c189e6",
   "metadata": {},
   "source": [
    "Install the dependencies."
   ]
  },
  {
   "cell_type": "code",
   "execution_count": null,
   "id": "5be9953d",
   "metadata": {},
   "outputs": [],
   "source": [
    "# !pip install requirements.txt"
   ]
  },
  {
   "cell_type": "code",
   "execution_count": null,
   "id": "b056f987",
   "metadata": {},
   "outputs": [],
   "source": [
    "!pip install tfx"
   ]
  },
  {
   "cell_type": "code",
   "execution_count": null,
   "id": "bde45dca",
   "metadata": {},
   "outputs": [],
   "source": [
    "# If you see this error \"cannot import name 'WKBWriter' from 'shapely.geos' when\"\n",
    "!pip install -U google-cloud-aiplatform \"shapely<2\""
   ]
  },
  {
   "cell_type": "markdown",
   "id": "c719f930",
   "metadata": {},
   "source": [
    "Import Python libraries"
   ]
  },
  {
   "cell_type": "code",
   "execution_count": null,
   "id": "a6de6ae5",
   "metadata": {
    "tags": []
   },
   "outputs": [],
   "source": [
    "from google.cloud import aiplatform\n",
    "from google.cloud.aiplatform import pipeline_jobs\n",
    "from google.cloud import storage\n",
    "import tensorflow as tf\n",
    "from tfx import v1 as tfx\n",
    "from tfx.proto import example_gen_pb2\n",
    "from tfx.dsl.components.common import resolver\n",
    "from tfx.proto import pusher_pb2\n",
    "from tfx.proto import trainer_pb2\n",
    "from tfx.types import Channel\n",
    "from tfx.types.standard_artifacts import Model\n",
    "from tfx.types.standard_artifacts import ModelBlessing\n",
    "from tfx.dsl.experimental import latest_blessed_model_resolver\n",
    "import tensorflow_model_analysis as tfma\n",
    "from typing import List, Optional\n",
    "import os\n",
    "import logging\n",
    "logging.getLogger().setLevel(logging.INFO)"
   ]
  },
  {
   "cell_type": "markdown",
   "id": "02885b3b",
   "metadata": {},
   "source": [
    "Declare variables"
   ]
  },
  {
   "cell_type": "code",
   "execution_count": 2,
   "id": "dc39095f",
   "metadata": {
    "tags": []
   },
   "outputs": [],
   "source": [
    "GCS_BUCKET_NAME = 'vekimenko_sky_test'\n",
    "GOOGLE_CLOUD_REGION = 'europe-west2'\n",
    "GOOGLE_CLOUD_PROJECT = 'strategy-bi-ltd'\n",
    "PIPELINE_NAME = 'sky_test'\n",
    "PIPELINE_ROOT = 'gs://{}/pipeline_root/{}'.format(GCS_BUCKET_NAME, PIPELINE_NAME)\n",
    "MODULE_ROOT = 'gs://{}/pipeline_module/{}'.format(GCS_BUCKET_NAME, PIPELINE_NAME)\n",
    "DATA_ROOT = 'gs://{}/data'.format('learn_tfx', PIPELINE_NAME)\n",
    "SERVING_MODEL_DIR = 'gs://{}/serving_model/{}'.format(GCS_BUCKET_NAME, PIPELINE_NAME)\n",
    "MODULE_FILE = 'sky_module.py'\n",
    "SOURCE_FILE_NAME = './{}'.format(MODULE_FILE)\n",
    "MODULE_PATH = 'gs://{}/pipeline_root/{}/{}'.format(GCS_BUCKET_NAME,PIPELINE_NAME, MODULE_FILE)\n",
    "MODULE_PATH_IN_BUCKET = 'pipeline_root/{}/{}'.format(PIPELINE_NAME, MODULE_FILE)\n",
    "PIPELINE_DEFINITION_FILE = PIPELINE_NAME + '_pipeline.json'\n",
    "BIG_QUERY_WITH_DIRECT_RUNNER_BEAM_PIPELINE_ARGS = [\n",
    "    '--project=' + GOOGLE_CLOUD_PROJECT,\n",
    "    '--temp_location=' + os.path.join('gs://', GCS_BUCKET_NAME, 'tmp'),\n",
    "]"
   ]
  },
  {
   "cell_type": "markdown",
   "id": "28a27ed6",
   "metadata": {},
   "source": [
    "Initialise an AIPlatfrom client "
   ]
  },
  {
   "cell_type": "code",
   "execution_count": 3,
   "id": "8db460e1",
   "metadata": {
    "tags": []
   },
   "outputs": [],
   "source": [
    "aiplatform.init(project=GOOGLE_CLOUD_PROJECT, location=GOOGLE_CLOUD_REGION)"
   ]
  },
  {
   "cell_type": "markdown",
   "id": "22e12f81",
   "metadata": {},
   "source": [
    "Create GCP bucket"
   ]
  },
  {
   "cell_type": "code",
   "execution_count": 4,
   "id": "c8228cb6",
   "metadata": {
    "tags": []
   },
   "outputs": [],
   "source": [
    "storage_client = storage.Client()\n",
    "bucket = storage_client.bucket(GCS_BUCKET_NAME)\n",
    "bucket.storage_class = \"COLDLINE\"\n",
    "new_bucket = storage_client.create_bucket(bucket, location=GOOGLE_CLOUD_REGION)    "
   ]
  },
  {
   "cell_type": "markdown",
   "id": "39fefa00",
   "metadata": {},
   "source": [
    "Grant admin priveledges for the new bucket to the service account "
   ]
  },
  {
   "cell_type": "code",
   "execution_count": 5,
   "id": "b7fe923b",
   "metadata": {},
   "outputs": [],
   "source": [
    "policy = bucket.get_iam_policy(requested_policy_version=3)\n",
    "policy.bindings.append(\n",
    "    {\n",
    "        \"role\": 'roles/storage.admin', \n",
    "        \"members\": {'serviceAccount:792237211962-compute@developer.gserviceaccount.com'}\n",
    "    })\n",
    "bucket.set_iam_policy(policy)"
   ]
  },
  {
   "cell_type": "markdown",
   "id": "2a10f9ad",
   "metadata": {},
   "source": [
    "Upload the module file to the bucket"
   ]
  },
  {
   "cell_type": "code",
   "execution_count": 6,
   "id": "4520d818",
   "metadata": {
    "tags": []
   },
   "outputs": [],
   "source": [
    "blob = bucket.blob(MODULE_PATH_IN_BUCKET)\n",
    "generation_match_precondition = 0\n",
    "blob.upload_from_filename(SOURCE_FILE_NAME, if_generation_match=generation_match_precondition)"
   ]
  },
  {
   "cell_type": "markdown",
   "id": "290ed4c9",
   "metadata": {},
   "source": [
    "This function creates ExampleGen component"
   ]
  },
  {
   "cell_type": "code",
   "execution_count": 7,
   "id": "a9590fe3",
   "metadata": {
    "tags": []
   },
   "outputs": [],
   "source": [
    "def _get_example_gen():\n",
    "    input_config = example_gen_pb2.Input(splits=[\n",
    "        example_gen_pb2.Input.Split(name='train', pattern='train/*'),\n",
    "        example_gen_pb2.Input.Split(name='eval', pattern='eval/*')\n",
    "    ])\n",
    "    return tfx.components.ImportExampleGen(input_base=DATA_ROOT, input_config=input_config)"
   ]
  },
  {
   "cell_type": "markdown",
   "id": "5f1904ea",
   "metadata": {},
   "source": [
    "This function creates StatisticsGen component"
   ]
  },
  {
   "cell_type": "code",
   "execution_count": 8,
   "id": "e36b9dae",
   "metadata": {
    "tags": []
   },
   "outputs": [],
   "source": [
    "def _get_statistics_gen(example_gen):\n",
    "    return tfx.components.StatisticsGen(examples=example_gen.outputs['examples'])"
   ]
  },
  {
   "cell_type": "markdown",
   "id": "6d08ec6c",
   "metadata": {},
   "source": [
    "This function creates SchemaGen component"
   ]
  },
  {
   "cell_type": "code",
   "execution_count": 9,
   "id": "fc78754c",
   "metadata": {
    "tags": []
   },
   "outputs": [],
   "source": [
    "def _get_schema_gen(statistics_gen):\n",
    "    return tfx.components.SchemaGen(statistics=statistics_gen.outputs['statistics'], infer_feature_shape=True)"
   ]
  },
  {
   "cell_type": "markdown",
   "id": "4eb787dc",
   "metadata": {},
   "source": [
    "This function creates ExampleValidator component"
   ]
  },
  {
   "cell_type": "code",
   "execution_count": 10,
   "id": "df83373e",
   "metadata": {
    "tags": []
   },
   "outputs": [],
   "source": [
    "def _get_example_validator(statistics_gen, schema_gen):\n",
    "    return tfx.components.ExampleValidator(\n",
    "      statistics=statistics_gen.outputs['statistics'],\n",
    "      schema=schema_gen.outputs['schema'])"
   ]
  },
  {
   "cell_type": "markdown",
   "id": "27121ba0",
   "metadata": {},
   "source": [
    "This function creates Transform component"
   ]
  },
  {
   "cell_type": "code",
   "execution_count": 11,
   "id": "da23a639",
   "metadata": {
    "tags": []
   },
   "outputs": [],
   "source": [
    "def _get_transform(example_gen, schema_gen, module_file):\n",
    "    return tfx.components.Transform(\n",
    "        examples=example_gen.outputs['examples'],\n",
    "        schema=schema_gen.outputs['schema'],\n",
    "        module_file=module_file)"
   ]
  },
  {
   "cell_type": "markdown",
   "id": "24566ce5",
   "metadata": {},
   "source": [
    "This function creates Trainer component"
   ]
  },
  {
   "cell_type": "code",
   "execution_count": 12,
   "id": "bd5eeba3",
   "metadata": {
    "tags": []
   },
   "outputs": [],
   "source": [
    "def _get_trainer(module_file, transform, schema_gen):\n",
    "    return tfx.components.Trainer(\n",
    "        module_file=module_file,\n",
    "        examples=transform.outputs['transformed_examples'],\n",
    "        transform_graph=transform.outputs['transform_graph'],\n",
    "        schema=schema_gen.outputs['schema'],\n",
    "        train_args=trainer_pb2.TrainArgs(num_steps=10000),\n",
    "        eval_args=trainer_pb2.EvalArgs(num_steps=5000),\n",
    "        custom_config={'labels_path': 'labels_path'})"
   ]
  },
  {
   "cell_type": "markdown",
   "id": "6ed62137",
   "metadata": {},
   "source": [
    "This function creates Resolver component"
   ]
  },
  {
   "cell_type": "code",
   "execution_count": 13,
   "id": "a928270a",
   "metadata": {
    "tags": []
   },
   "outputs": [],
   "source": [
    "def _get_model_resolver():\n",
    "    return resolver.Resolver(\n",
    "        strategy_class=latest_blessed_model_resolver.LatestBlessedModelResolver,\n",
    "        model=Channel(type=Model),\n",
    "        model_blessing=Channel(type=ModelBlessing)).with_id('latest_blessed_model_resolver')"
   ]
  },
  {
   "cell_type": "markdown",
   "id": "61d2b346",
   "metadata": {},
   "source": [
    "This function creates Evaluator component"
   ]
  },
  {
   "cell_type": "code",
   "execution_count": 14,
   "id": "d599c126",
   "metadata": {
    "tags": []
   },
   "outputs": [],
   "source": [
    "def _get_evaluator(transform, trainer, model_resolver, accuracy_threshold):\n",
    "    eval_config = tfma.EvalConfig(\n",
    "        model_specs=[tfma.ModelSpec(label_key='label')],\n",
    "        slicing_specs=[tfma.SlicingSpec()],\n",
    "        metrics_specs=[\n",
    "            tfma.MetricsSpec(metrics=[\n",
    "                tfma.MetricConfig(\n",
    "                    class_name='SparseCategoricalAccuracy',\n",
    "                    threshold=tfma.MetricThreshold(\n",
    "                        value_threshold=tfma.GenericValueThreshold(\n",
    "                            lower_bound={'value': accuracy_threshold}),\n",
    "                        change_threshold=tfma.GenericChangeThreshold(\n",
    "                            direction=tfma.MetricDirection.HIGHER_IS_BETTER,\n",
    "                            absolute={'value': -1e-3})))\n",
    "                ])\n",
    "            ])\n",
    "    return tfx.components.Evaluator(\n",
    "        examples=transform.outputs['transformed_examples'],\n",
    "        model=trainer.outputs['model'],\n",
    "        baseline_model=model_resolver.outputs['model'],\n",
    "        eval_config=eval_config)"
   ]
  },
  {
   "cell_type": "markdown",
   "id": "e8f7ef5b",
   "metadata": {},
   "source": [
    "This function creates Pusher component"
   ]
  },
  {
   "cell_type": "code",
   "execution_count": 15,
   "id": "5678f8ba",
   "metadata": {
    "tags": []
   },
   "outputs": [],
   "source": [
    "def _get_pusher(trainer, evaluator, serving_model_dir):\n",
    "    return tfx.components.Pusher(\n",
    "        model=trainer.outputs['model'],\n",
    "        model_blessing=evaluator.outputs['blessing'],\n",
    "        push_destination=pusher_pb2.PushDestination(\n",
    "            filesystem=pusher_pb2.PushDestination.Filesystem(\n",
    "                base_directory=serving_model_dir)))"
   ]
  },
  {
   "cell_type": "markdown",
   "id": "069a541f",
   "metadata": {},
   "source": [
    "This function creates pipeline"
   ]
  },
  {
   "cell_type": "code",
   "execution_count": 21,
   "id": "5d3dc37b",
   "metadata": {
    "tags": []
   },
   "outputs": [],
   "source": [
    "def _create_pipeline(pipeline_name: str, \n",
    "                     pipeline_root: str, \n",
    "                     module_file: str, \n",
    "                     serving_model_dir: str,\n",
    "                     beam_pipeline_args: Optional[List[str]],\n",
    "                     accuracy_threshold: float = 0.35\n",
    "                     ) -> tfx.dsl.Pipeline:\n",
    "    \n",
    "    example_gen = _get_example_gen()\n",
    "    statistics_gen = _get_statistics_gen(example_gen)\n",
    "    schema_gen = _get_schema_gen(statistics_gen)\n",
    "    example_validator = _get_example_validator(statistics_gen, schema_gen)\n",
    "    transform = _get_transform(example_gen, schema_gen, module_file)\n",
    "    trainer = _get_trainer(module_file, transform, schema_gen)\n",
    "    model_resolver = _get_model_resolver()\n",
    "    evaluator = _get_evaluator(transform, trainer, model_resolver, accuracy_threshold)\n",
    "    pusher = _get_pusher(trainer, evaluator, serving_model_dir)\n",
    "    \n",
    "    components = [\n",
    "        example_gen, statistics_gen, schema_gen, example_validator, transform,\n",
    "        trainer, model_resolver, evaluator, pusher\n",
    "    ]\n",
    "    \n",
    "    return tfx.dsl.Pipeline(\n",
    "        pipeline_name=pipeline_name,\n",
    "        pipeline_root=pipeline_root,\n",
    "        components=components,\n",
    "        beam_pipeline_args=beam_pipeline_args)"
   ]
  },
  {
   "cell_type": "markdown",
   "id": "e602deae",
   "metadata": {},
   "source": [
    "This cell creates a runner and generates a pipeline"
   ]
  },
  {
   "cell_type": "code",
   "execution_count": null,
   "id": "d98b4b98",
   "metadata": {
    "tags": []
   },
   "outputs": [],
   "source": [
    "runner = tfx.orchestration.experimental.KubeflowV2DagRunner(\n",
    "    config=tfx.orchestration.experimental.KubeflowV2DagRunnerConfig(),\n",
    "    output_filename=PIPELINE_DEFINITION_FILE)\n",
    "_ = runner.run(\n",
    "    _create_pipeline(\n",
    "        pipeline_name='sky-test',\n",
    "        pipeline_root=PIPELINE_ROOT,\n",
    "        module_file=MODULE_PATH,\n",
    "        serving_model_dir=SERVING_MODEL_DIR,\n",
    "        beam_pipeline_args=BIG_QUERY_WITH_DIRECT_RUNNER_BEAM_PIPELINE_ARGS))"
   ]
  },
  {
   "cell_type": "markdown",
   "id": "812645c0",
   "metadata": {},
   "source": [
    "This cell submits the generated pipeline to Vertex"
   ]
  },
  {
   "cell_type": "code",
   "execution_count": null,
   "id": "19024527",
   "metadata": {
    "tags": []
   },
   "outputs": [],
   "source": [
    "job = pipeline_jobs.PipelineJob(template_path=PIPELINE_DEFINITION_FILE, display_name=PIPELINE_NAME)\n",
    "job.submit()"
   ]
  },
  {
   "cell_type": "markdown",
   "id": "047db767",
   "metadata": {},
   "source": [
    "Once the pipeline is finished and model is saved the following function creates an endpoint.   "
   ]
  },
  {
   "cell_type": "code",
   "execution_count": 4,
   "id": "14b7e453",
   "metadata": {
    "tags": []
   },
   "outputs": [],
   "source": [
    "def create_endpoint(endpoint_display_name):\n",
    "    endpoints = aiplatform.Endpoint.list(\n",
    "        filter=f'display_name={endpoint_display_name}', \n",
    "        order_by=\"update_time\")\n",
    "    \n",
    "    if len(endpoints) > 0:\n",
    "        logging.info(f\"Endpoint {endpoint_display_name} already exists.\")\n",
    "        endpoint = endpoints[-1]\n",
    "    else:\n",
    "        endpoint = aiplatform.Endpoint.create(endpoint_display_name)\n",
    "    logging.info(f\"Endpoint is ready.\")\n",
    "    return endpoint"
   ]
  },
  {
   "cell_type": "code",
   "execution_count": null,
   "id": "2f3a44af",
   "metadata": {
    "tags": []
   },
   "outputs": [],
   "source": [
    "endpoint_display_name = 'sky-test'\n",
    "endpoint = create_endpoint(endpoint_display_name)"
   ]
  },
  {
   "cell_type": "code",
   "execution_count": null,
   "id": "3f40d95c",
   "metadata": {},
   "outputs": [],
   "source": [
    "# endpoint = aiplatform.Endpoint('projects/792237211962/locations/europe-west2/endpoints/1417393633505574912')"
   ]
  },
  {
   "cell_type": "markdown",
   "id": "84a6ee2d",
   "metadata": {},
   "source": [
    "This function creates a model"
   ]
  },
  {
   "cell_type": "code",
   "execution_count": 5,
   "id": "829355c1",
   "metadata": {},
   "outputs": [],
   "source": [
    "def create_model(model_display_name, artifact_uri, env_uri):\n",
    "    models = aiplatform.Model.list(\n",
    "        filter=f'display_name={model_display_name}', \n",
    "        order_by=\"update_time\")\n",
    "    \n",
    "    if len(models) > 0:\n",
    "        logging.info(f\"Model {model_display_name} already exists.\")\n",
    "        model = models[-1]\n",
    "    else:\n",
    "        model = aiplatform.Model.upload(display_name=model_display_name, \n",
    "                                        artifact_uri=artifact_uri,\n",
    "                                        serving_container_image_uri=env_uri)\n",
    "        \n",
    "    logging.info(\"Model is ready.\")\n",
    "    return model"
   ]
  },
  {
   "cell_type": "code",
   "execution_count": 39,
   "id": "26222f8c",
   "metadata": {
    "tags": []
   },
   "outputs": [],
   "source": [
    "model_display_name = 'sky-cifar10-model'\n",
    "artifact_uri='gs://vekimenko_sky_test/serving_model/sky_test/1702120393'\n",
    "env_uri='gcr.io/deeplearning-platform-release/base-cpu:m79'\n",
    "model = create_model(model_display_name, artifact_uri, env_uri)"
   ]
  },
  {
   "cell_type": "code",
   "execution_count": 6,
   "id": "3af9457f",
   "metadata": {
    "tags": []
   },
   "outputs": [],
   "source": [
    "# model = aiplatform.Model('projects/792237211962/locations/europe-west2/models/414234408694841344@1')"
   ]
  },
  {
   "cell_type": "markdown",
   "id": "b1a14777",
   "metadata": {},
   "source": [
    "This cell deploy the model to the endpoint"
   ]
  },
  {
   "cell_type": "code",
   "execution_count": null,
   "id": "edf04bf5",
   "metadata": {
    "tags": []
   },
   "outputs": [],
   "source": [
    "deployed_model = endpoint.deploy(model=model)"
   ]
  }
 ],
 "metadata": {
  "environment": {
   "kernel": "conda-root-py",
   "name": "workbench-notebooks.m113",
   "type": "gcloud",
   "uri": "gcr.io/deeplearning-platform-release/workbench-notebooks:m113"
  },
  "hide_input": false,
  "kernelspec": {
   "display_name": "Python 3",
   "language": "python",
   "name": "python3"
  },
  "language_info": {
   "codemirror_mode": {
    "name": "ipython",
    "version": 3
   },
   "file_extension": ".py",
   "mimetype": "text/x-python",
   "name": "python",
   "nbconvert_exporter": "python",
   "pygments_lexer": "ipython3",
   "version": "3.7.9"
  },
  "toc": {
   "base_numbering": 1,
   "nav_menu": {},
   "number_sections": true,
   "sideBar": true,
   "skip_h1_title": false,
   "title_cell": "Table of Contents",
   "title_sidebar": "Contents",
   "toc_cell": false,
   "toc_position": {},
   "toc_section_display": true,
   "toc_window_display": false
  }
 },
 "nbformat": 4,
 "nbformat_minor": 5
}
